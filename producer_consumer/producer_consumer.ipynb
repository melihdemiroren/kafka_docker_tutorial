{
 "cells": [
  {
   "cell_type": "code",
   "execution_count": 21,
   "metadata": {},
   "outputs": [],
   "source": [
    "from pykafka import KafkaClient"
   ]
  },
  {
   "cell_type": "code",
   "execution_count": 34,
   "metadata": {},
   "outputs": [],
   "source": [
    "client = KafkaClient(hosts=\"127.0.0.1:9092,127.0.0.1:9093\")"
   ]
  },
  {
   "cell_type": "code",
   "execution_count": 35,
   "metadata": {},
   "outputs": [
    {
     "data": {
      "text/plain": [
       "{b'wc': <pykafka.topic.Topic at 0x10e706a90 (name=b'wc')>}"
      ]
     },
     "execution_count": 35,
     "metadata": {},
     "output_type": "execute_result"
    }
   ],
   "source": [
    "client.topics"
   ]
  },
  {
   "cell_type": "code",
   "execution_count": 36,
   "metadata": {},
   "outputs": [],
   "source": [
    "topic = client.topics['wc']"
   ]
  },
  {
   "cell_type": "code",
   "execution_count": 25,
   "metadata": {},
   "outputs": [
    {
     "name": "stdout",
     "output_type": "stream",
     "text": [
      "0\n",
      "1\n",
      "2\n",
      "3\n"
     ]
    }
   ],
   "source": [
    "with topic.get_producer(delivery_reports=True) as producer:\n",
    "    for i in range(4):\n",
    "        print(i)\n",
    "        producer.produce(bytes('test message {}'.format(i), \"utf8\"))"
   ]
  },
  {
   "cell_type": "code",
   "execution_count": 37,
   "metadata": {},
   "outputs": [],
   "source": [
    "consumer = topic.get_simple_consumer(consumer_timeout_ms=5000)"
   ]
  },
  {
   "cell_type": "code",
   "execution_count": 38,
   "metadata": {},
   "outputs": [
    {
     "name": "stdout",
     "output_type": "stream",
     "text": [
      "0 b'logs'\n",
      "0 b'confluent'\n",
      "1 b'kafka'\n",
      "1 b'kafka'\n",
      "2 b'logs'\n",
      "2 b'confluent'\n",
      "3 b'kafka'\n",
      "3 b'kafka'\n",
      "4 b'kafka'\n",
      "4 b'logs'\n",
      "5 b'kafka'\n",
      "5 b'confluent'\n",
      "6 b'logs'\n",
      "6 b'kafka'\n",
      "7 b'kafka'\n",
      "7 b'confluent'\n",
      "8 b'logs'\n",
      "8 b'kafka'\n",
      "9 b'kafka'\n",
      "9 b'logs'\n",
      "10 b'kafka'\n",
      "10 b'confluent'\n",
      "11 b'kafka'\n",
      "11 b'kafka'\n",
      "12 b'logs'\n",
      "13 b'confluent'\n",
      "14 b'kafka'\n",
      "15 b'confluent'\n",
      "16 b'kafka'\n",
      "17 b'confluent'\n",
      "18 b'kafka'\n",
      "19 b'logs'\n",
      "20 b'confluent'\n",
      "21 b'kafka'\n",
      "22 b'logs'\n",
      "23 b'confluent'\n",
      "24 b'kafka'\n",
      "25 b'logs'\n"
     ]
    }
   ],
   "source": [
    "for message in consumer:\n",
    "    try:\n",
    "        if message is not None:\n",
    "            print(message.offset, message.value)\n",
    "    except:\n",
    "        print(\"error\")\n",
    "\n",
    "consumer.stop()"
   ]
  },
  {
   "cell_type": "code",
   "execution_count": null,
   "metadata": {},
   "outputs": [],
   "source": []
  }
 ],
 "metadata": {
  "kernelspec": {
   "display_name": "Python 3",
   "language": "python",
   "name": "python3"
  },
  "language_info": {
   "codemirror_mode": {
    "name": "ipython",
    "version": 3
   },
   "file_extension": ".py",
   "mimetype": "text/x-python",
   "name": "python",
   "nbconvert_exporter": "python",
   "pygments_lexer": "ipython3",
   "version": "3.7.4"
  }
 },
 "nbformat": 4,
 "nbformat_minor": 2
}
